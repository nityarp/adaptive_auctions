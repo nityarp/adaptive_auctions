{
  "nbformat": 4,
  "nbformat_minor": 0,
  "metadata": {
    "colab": {
      "name": "auction_algorithms",
      "provenance": [],
      "collapsed_sections": []
    },
    "kernelspec": {
      "display_name": "Python 3",
      "name": "python3"
    }
  },
  "cells": [
    {
      "cell_type": "code",
      "metadata": {
        "colab": {
          "base_uri": "https://localhost:8080/"
        },
        "id": "R22IFILMpg37",
        "outputId": "61fbb577-4cb1-49d2-e9b6-3a6e1eb42998"
      },
      "source": [
        "from google.colab import drive\n",
        "drive.mount('/content/drive')"
      ],
      "execution_count": null,
      "outputs": [
        {
          "output_type": "stream",
          "text": [
            "Mounted at /content/drive\n"
          ],
          "name": "stdout"
        }
      ]
    },
    {
      "cell_type": "code",
      "metadata": {
        "id": "LDmu0XgyFLfZ"
      },
      "source": [
        "import numpy as np\n",
        "import pandas as pd\n",
        "import matplotlib.pyplot as plt\n",
        "from operator import itemgetter"
      ],
      "execution_count": null,
      "outputs": []
    },
    {
      "cell_type": "code",
      "metadata": {
        "id": "-5W5r0i_Rqr9"
      },
      "source": [
        "# VCG function\n",
        "def VCG(subset, num_slots = 3, click_rate = [0.2, 0.1, 0.05], res_p = 10, ads_cost = 1):\n",
        "  valuation = subset[subset['PRICE']>=res_p].groupby('ACCOUNT_ID')['PRICE'].max()\n",
        "  valuation_count = len(valuation)\n",
        "  if valuation_count == 0:\n",
        "    VCG_payment = {}\n",
        "    VCG_payment['revenue'] = 0\n",
        "    return VCG_payment\n",
        "  if valuation_count > num_slots:\n",
        "    valuation = pd.DataFrame(valuation.sort_values(ascending = False)[:num_slots+1])\n",
        "  else:\n",
        "    valuation =  pd.DataFrame(valuation.sort_values(ascending = False))\n",
        "    count = 0\n",
        "    while count < num_slots + 1 - valuation_count:\n",
        "      add_row = pd.DataFrame({'ACCOUNT_ID': [count], 'PRICE': [0]})\n",
        "      add_row.set_index(['ACCOUNT_ID'], inplace = True)\n",
        "      valuation = valuation.append(add_row, ignore_index=False)\n",
        "      count += 1\n",
        "  VCG_payment = {}\n",
        "  payment = 0\n",
        "  for i in reversed(range(0,num_slots)):\n",
        "    if i == num_slots-1:\n",
        "      payment += valuation.iloc[i+1]['PRICE'] * click_rate[i]\n",
        "    else:\n",
        "      payment += valuation.iloc[i+1]['PRICE'] * (click_rate[i] - click_rate[i+1])\n",
        "    VCG_payment[i] = payment\n",
        "  VCG_payment['revenue'] = np.sum(list(VCG_payment.values())) - (ads_cost*num_slots)\n",
        "  if VCG_payment['revenue'] < 0:\n",
        "     VCG_payment['revenue'] = 0\n",
        "  \n",
        "  return VCG_payment"
      ],
      "execution_count": null,
      "outputs": []
    },
    {
      "cell_type": "code",
      "metadata": {
        "id": "2Bd-PAwRg6DZ"
      },
      "source": [
        "# GSP function\n",
        "def GSP(subset, num_slots = 3, click_rate = [0.2, 0.1, 0.05], res_p = 10, ads_cost = 1):\n",
        "  valuation = subset[subset['PRICE']>=res_p].groupby('ACCOUNT_ID')['PRICE'].max()\n",
        "  valuation_count = len(valuation)\n",
        "  if valuation_count == 0:\n",
        "    GSP_payment = {}\n",
        "    GSP_payment['revenue'] = 0\n",
        "    return GSP_payment\n",
        "  if valuation_count > num_slots:\n",
        "    valuation = pd.DataFrame(valuation.sort_values(ascending = False)[:num_slots+1])\n",
        "  else:\n",
        "    valuation =  pd.DataFrame(valuation.sort_values(ascending = False))\n",
        "    count = 0\n",
        "    while count < num_slots + 1 - valuation_count:\n",
        "      add_row = pd.DataFrame({'ACCOUNT_ID': [count], 'PRICE': [0]})\n",
        "      add_row.set_index(['ACCOUNT_ID'], inplace = True)\n",
        "      valuation = valuation.append(add_row, ignore_index=False)\n",
        "      count += 1\n",
        "  GSP_payment = {}\n",
        "  payment = 0\n",
        "  for i in range(0,num_slots):\n",
        "    GSP_payment[i] = valuation.iloc[i+1]['PRICE'] * click_rate[i]\n",
        "  GSP_payment['revenue'] = np.sum(list(GSP_payment.values())) - (ads_cost*num_slots)\n",
        "\n",
        "  if GSP_payment['revenue'] < 0:\n",
        "     GSP_payment['revenue'] = 0\n",
        "  return GSP_payment"
      ],
      "execution_count": null,
      "outputs": []
    },
    {
      "cell_type": "code",
      "metadata": {
        "id": "ZZgjhzbmDCmQ"
      },
      "source": [
        "# First Price function\n",
        "def FirstPrice(subset, num_slots = 3, click_rate = [0.2, 0.1, 0.05], res_p = 10, ads_cost = 1):\n",
        "  valuation = subset[subset['PRICE']>=res_p].groupby('ACCOUNT_ID')['PRICE'].max()\n",
        "  valuation_count = len(valuation)\n",
        "  if valuation_count == 0:\n",
        "    FirstPrice_payment = {}\n",
        "    FirstPrice_payment['revenue'] = 0\n",
        "    return FirstPrice_payment\n",
        "  if valuation_count > num_slots:\n",
        "    valuation = pd.DataFrame(valuation.sort_values(ascending = False)[:num_slots+1])\n",
        "  else:\n",
        "    valuation =  pd.DataFrame(valuation.sort_values(ascending = False))\n",
        "    count = 0\n",
        "    while count < num_slots + 1 - valuation_count:\n",
        "      add_row = pd.DataFrame({'ACCOUNT_ID': [count], 'PRICE': [0]})\n",
        "      add_row.set_index(['ACCOUNT_ID'], inplace = True)\n",
        "      valuation = valuation.append(add_row, ignore_index=False)\n",
        "      count += 1\n",
        "  FirstPrice_payment = {}\n",
        "  payment = 0\n",
        "  for i in range(0,num_slots):\n",
        "    FirstPrice_payment[i] = valuation.iloc[i]['PRICE'] * click_rate[i]\n",
        "  FirstPrice_payment['revenue'] = np.sum(list(FirstPrice_payment.values())) - (ads_cost*num_slots)\n",
        "\n",
        "  if FirstPrice_payment['revenue'] < 0:\n",
        "     FirstPrice_payment['revenue'] = 0\n",
        "  return FirstPrice_payment"
      ],
      "execution_count": null,
      "outputs": []
    },
    {
      "cell_type": "code",
      "metadata": {
        "colab": {
          "base_uri": "https://localhost:8080/",
          "height": 203
        },
        "id": "Lj5Pyxkz3e7L",
        "outputId": "69f4cb5e-5d17-4f8c-e894-f0ac2dc60659"
      },
      "source": [
        "data = pd.read_csv('/content/drive/My Drive/COMPSCI590 Project/final.csv')\n",
        "data.head()"
      ],
      "execution_count": null,
      "outputs": [
        {
          "output_type": "execute_result",
          "data": {
            "text/html": [
              "<div>\n",
              "<style scoped>\n",
              "    .dataframe tbody tr th:only-of-type {\n",
              "        vertical-align: middle;\n",
              "    }\n",
              "\n",
              "    .dataframe tbody tr th {\n",
              "        vertical-align: top;\n",
              "    }\n",
              "\n",
              "    .dataframe thead th {\n",
              "        text-align: right;\n",
              "    }\n",
              "</style>\n",
              "<table border=\"1\" class=\"dataframe\">\n",
              "  <thead>\n",
              "    <tr style=\"text-align: right;\">\n",
              "      <th></th>\n",
              "      <th>TIMESTAMP</th>\n",
              "      <th>PHRASE_ID</th>\n",
              "      <th>ACCOUNT_ID</th>\n",
              "      <th>PRICE</th>\n",
              "      <th>AUTO</th>\n",
              "      <th>AUCTION_GRP</th>\n",
              "    </tr>\n",
              "  </thead>\n",
              "  <tbody>\n",
              "    <tr>\n",
              "      <th>0</th>\n",
              "      <td>2002-06-26 09:45:00</td>\n",
              "      <td>158</td>\n",
              "      <td>1376</td>\n",
              "      <td>9.00</td>\n",
              "      <td>1</td>\n",
              "      <td>151082</td>\n",
              "    </tr>\n",
              "    <tr>\n",
              "      <th>1</th>\n",
              "      <td>2002-06-26 09:45:00</td>\n",
              "      <td>158</td>\n",
              "      <td>1376</td>\n",
              "      <td>8.63</td>\n",
              "      <td>1</td>\n",
              "      <td>151082</td>\n",
              "    </tr>\n",
              "    <tr>\n",
              "      <th>2</th>\n",
              "      <td>2002-06-26 09:45:00</td>\n",
              "      <td>158</td>\n",
              "      <td>3015</td>\n",
              "      <td>8.62</td>\n",
              "      <td>1</td>\n",
              "      <td>151082</td>\n",
              "    </tr>\n",
              "    <tr>\n",
              "      <th>3</th>\n",
              "      <td>2002-06-26 09:45:00</td>\n",
              "      <td>158</td>\n",
              "      <td>6633</td>\n",
              "      <td>50.00</td>\n",
              "      <td>1</td>\n",
              "      <td>151082</td>\n",
              "    </tr>\n",
              "    <tr>\n",
              "      <th>4</th>\n",
              "      <td>2002-06-26 09:45:00</td>\n",
              "      <td>158</td>\n",
              "      <td>8319</td>\n",
              "      <td>1.50</td>\n",
              "      <td>1</td>\n",
              "      <td>151082</td>\n",
              "    </tr>\n",
              "  </tbody>\n",
              "</table>\n",
              "</div>"
            ],
            "text/plain": [
              "             TIMESTAMP  PHRASE_ID  ACCOUNT_ID  PRICE  AUTO  AUCTION_GRP\n",
              "0  2002-06-26 09:45:00        158        1376   9.00     1       151082\n",
              "1  2002-06-26 09:45:00        158        1376   8.63     1       151082\n",
              "2  2002-06-26 09:45:00        158        3015   8.62     1       151082\n",
              "3  2002-06-26 09:45:00        158        6633  50.00     1       151082\n",
              "4  2002-06-26 09:45:00        158        8319   1.50     1       151082"
            ]
          },
          "metadata": {
            "tags": []
          },
          "execution_count": 6
        }
      ]
    },
    {
      "cell_type": "code",
      "metadata": {
        "colab": {
          "base_uri": "https://localhost:8080/"
        },
        "id": "m-3GqHau3856",
        "outputId": "6de7d9cb-979b-4af6-a34b-5957f225f0a5"
      },
      "source": [
        "# Phrase ids which has more than 60 auction groups\n",
        "data_more60auction = pd.DataFrame(data.groupby(['PHRASE_ID'])['AUCTION_GRP'].nunique()).reset_index()\n",
        "final_phrase_ids = data_more60auction[data_more60auction['AUCTION_GRP'] > 60]['PHRASE_ID'].values\n",
        "final_phrase_ids"
      ],
      "execution_count": null,
      "outputs": [
        {
          "output_type": "execute_result",
          "data": {
            "text/plain": [
              "array([  1,   2,   3,   4,   5,   7,   8,  10,  11,  12,  14,  15,  16,\n",
              "        17,  19,  20,  21,  22,  23,  24,  26,  27,  32,  34,  35,  36,\n",
              "        38,  43,  44,  57,  58,  61,  68,  69,  84,  85,  89,  91,  96,\n",
              "       101, 103, 106, 107, 115, 118, 119, 120, 122, 124, 129, 137, 138,\n",
              "       140, 145, 149, 151, 154, 155, 156, 158, 161, 162, 164, 167, 168,\n",
              "       170, 172, 174, 175, 179, 180, 182, 183, 184, 185, 188, 190, 194,\n",
              "       196, 197, 200, 202, 207, 209, 210, 211, 212, 217, 219, 220, 221,\n",
              "       224, 225, 238, 241, 242, 243, 244, 245, 246, 253, 254, 255, 268,\n",
              "       270, 279, 280, 283, 284, 286, 288, 291, 293, 294, 297, 299, 301,\n",
              "       302, 303, 304, 305, 306, 307, 308, 311, 312, 314, 315, 317, 318,\n",
              "       319, 320, 322, 323, 326, 329, 331, 332, 334, 342, 343, 344, 350,\n",
              "       351, 352, 353, 354, 356, 358, 359, 360, 369, 372, 375, 379, 380,\n",
              "       382, 390, 395, 396, 398, 399, 400, 405, 406, 411, 419, 421, 431,\n",
              "       436, 456, 474, 475, 476, 477, 478, 487, 488, 489, 508, 509, 521,\n",
              "       524, 541, 543, 548, 549, 553, 559, 560, 561, 562, 564, 567, 568,\n",
              "       576, 577, 579, 580, 583, 588, 589, 590, 602, 611, 612, 639, 642,\n",
              "       646, 647, 655, 657, 678, 679, 682, 686, 688, 707, 708, 712, 722,\n",
              "       723, 729, 739, 740, 748, 760, 768, 769, 776, 785, 787, 821, 826,\n",
              "       875, 902, 922, 927, 928, 930, 938, 943, 975])"
            ]
          },
          "metadata": {
            "tags": []
          },
          "execution_count": 7
        }
      ]
    },
    {
      "cell_type": "code",
      "metadata": {
        "id": "9e-qmLcYhvv2"
      },
      "source": [
        "def generate_VCG_GSP_phrase_auction_revenue(data, final_phrase_ids):\n",
        "  auction_revenue_df = pd.DataFrame(columns=['PHRASE_ID', 'AUCTION_GRP', 'VCG_Revenue', 'GSP_Revenue'])\n",
        "  for phrase_id in final_phrase_ids:\n",
        "    subset_phrase = data[data['PHRASE_ID'] == phrase_id]\n",
        "    phrase_3_bidders = pd.DataFrame(subset_phrase.groupby('AUCTION_GRP')['ACCOUNT_ID'].nunique() > 3)\n",
        "    auction_groups = phrase_3_bidders[phrase_3_bidders['ACCOUNT_ID'] == True].index.values\n",
        "    for auction_group in auction_groups:\n",
        "        auction = subset_phrase[subset_phrase['AUCTION_GRP'] == auction_group]\n",
        "        VCG_payments = VCG(auction, res_p = 0, ads_cost = 0)\n",
        "        GSP_payments = GSP(auction, res_p = 0, ads_cost = 0)\n",
        "        row = {'PHRASE_ID': phrase_id, 'AUCTION_GRP': auction_group, 'VCG_Revenue': VCG_payments['revenue'], 'GSP_Revenue': GSP_payments['revenue']}\n",
        "        auction_revenue_df = auction_revenue_df.append(row, ignore_index=True)\n",
        "    auction_revenue_df.to_csv('/content/drive/My Drive/COMPSCI590 Project/auction_revenues.csv', index=False)\n",
        "  return auction_revenue_df"
      ],
      "execution_count": null,
      "outputs": []
    },
    {
      "cell_type": "code",
      "metadata": {
        "colab": {
          "base_uri": "https://localhost:8080/",
          "height": 203
        },
        "id": "s1rKXi2mkU_-",
        "outputId": "fa1835bf-6bf7-4530-e0ac-8f814375aec2"
      },
      "source": [
        "# auction_revenue_df = generate_VCG_GSP_phrase_auction_revenue(data, final_phrase_ids)\n",
        "# auction_revenue_df.head()"
      ],
      "execution_count": null,
      "outputs": [
        {
          "output_type": "execute_result",
          "data": {
            "text/html": [
              "<div>\n",
              "<style scoped>\n",
              "    .dataframe tbody tr th:only-of-type {\n",
              "        vertical-align: middle;\n",
              "    }\n",
              "\n",
              "    .dataframe tbody tr th {\n",
              "        vertical-align: top;\n",
              "    }\n",
              "\n",
              "    .dataframe thead th {\n",
              "        text-align: right;\n",
              "    }\n",
              "</style>\n",
              "<table border=\"1\" class=\"dataframe\">\n",
              "  <thead>\n",
              "    <tr style=\"text-align: right;\">\n",
              "      <th></th>\n",
              "      <th>PHRASE_ID</th>\n",
              "      <th>AUCTION_GRP</th>\n",
              "      <th>VCG_Revenue</th>\n",
              "      <th>GSP_Revenue</th>\n",
              "    </tr>\n",
              "  </thead>\n",
              "  <tbody>\n",
              "    <tr>\n",
              "      <th>0</th>\n",
              "      <td>1.0</td>\n",
              "      <td>165552.0</td>\n",
              "      <td>2.9085</td>\n",
              "      <td>4.2315</td>\n",
              "    </tr>\n",
              "    <tr>\n",
              "      <th>1</th>\n",
              "      <td>1.0</td>\n",
              "      <td>243264.0</td>\n",
              "      <td>3.5040</td>\n",
              "      <td>3.8460</td>\n",
              "    </tr>\n",
              "    <tr>\n",
              "      <th>2</th>\n",
              "      <td>1.0</td>\n",
              "      <td>243507.0</td>\n",
              "      <td>2.4310</td>\n",
              "      <td>3.2710</td>\n",
              "    </tr>\n",
              "    <tr>\n",
              "      <th>3</th>\n",
              "      <td>1.0</td>\n",
              "      <td>244545.0</td>\n",
              "      <td>2.7590</td>\n",
              "      <td>3.6000</td>\n",
              "    </tr>\n",
              "    <tr>\n",
              "      <th>4</th>\n",
              "      <td>1.0</td>\n",
              "      <td>291050.0</td>\n",
              "      <td>3.0775</td>\n",
              "      <td>3.7405</td>\n",
              "    </tr>\n",
              "  </tbody>\n",
              "</table>\n",
              "</div>"
            ],
            "text/plain": [
              "   PHRASE_ID  AUCTION_GRP  VCG_Revenue  GSP_Revenue\n",
              "0        1.0     165552.0       2.9085       4.2315\n",
              "1        1.0     243264.0       3.5040       3.8460\n",
              "2        1.0     243507.0       2.4310       3.2710\n",
              "3        1.0     244545.0       2.7590       3.6000\n",
              "4        1.0     291050.0       3.0775       3.7405"
            ]
          },
          "metadata": {
            "tags": []
          },
          "execution_count": 31
        }
      ]
    },
    {
      "cell_type": "code",
      "metadata": {
        "id": "Lh0ENeJVn_SI"
      },
      "source": [
        "# Calculate average for each phrase_id for VCG and GSP, then plot graph! \n",
        "def generate_VCG_GSP_phrase_average_revenue():\n",
        "  auction_revenue_df = pd.read_csv('/content/drive/My Drive/COMPSCI590 Project/auction_revenues.csv', dtype={'PHRASE_ID': np.int32, 'AUCTION_GRP': np.int32} )\n",
        "  auction_avg_revenue_df = auction_revenue_df.groupby('PHRASE_ID').mean().reset_index()\n",
        "  del auction_avg_revenue_df['AUCTION_GRP']\n",
        "  auction_avg_revenue_df.to_csv('/content/drive/My Drive/COMPSCI590 Project/phrase_average_revenues.csv', index=False)\n",
        "  return auction_avg_revenue_df"
      ],
      "execution_count": null,
      "outputs": []
    },
    {
      "cell_type": "code",
      "metadata": {
        "colab": {
          "base_uri": "https://localhost:8080/",
          "height": 320
        },
        "id": "ZjTVNaI_lUnX",
        "outputId": "562ed525-bb92-4e9c-d422-98099263395c"
      },
      "source": [
        "auction_avg_revenue_df = generate_VCG_GSP_phrase_average_revenue()\n",
        "auction_avg_revenue_df.head()\n",
        "plt.figure(figsize=(20,5))\n",
        "plt.plot(auction_avg_revenue_df.PHRASE_ID, auction_avg_revenue_df.VCG_Revenue, c='b', label='VCG')\n",
        "plt.plot(auction_avg_revenue_df.PHRASE_ID, auction_avg_revenue_df.GSP_Revenue, c='r', label='GSP') \n",
        "plt.legend()\n",
        "plt.savefig('/content/drive/My Drive/COMPSCI590 Project/VCG_GSP_plot.png')"
      ],
      "execution_count": null,
      "outputs": [
        {
          "output_type": "display_data",
          "data": {
            "image/png": "[encoded data removed]",
            "text/plain": [
              "<Figure size 1440x360 with 1 Axes>"
            ]
          },
          "metadata": {
            "tags": [],
            "needs_background": "light"
          }
        }
      ]
    },
    {
      "cell_type": "code",
      "metadata": {
        "colab": {
          "base_uri": "https://localhost:8080/",
          "height": 320
        },
        "id": "FsebLPnVzBzd",
        "outputId": "43240223-a68a-4d79-94f2-90bc77cbd363"
      },
      "source": [
        "auction_avg_revenue_df = generate_VCG_GSP_phrase_average_revenue()\n",
        "auction_avg_revenue_df.head()\n",
        "plt.figure(figsize=(20,5))\n",
        "plt.scatter(auction_avg_revenue_df.PHRASE_ID, auction_avg_revenue_df.VCG_Revenue, s=5, c='b', label='VCG')\n",
        "plt.scatter(auction_avg_revenue_df.PHRASE_ID, auction_avg_revenue_df.GSP_Revenue, s=5, c='r', label='GSP')  \n",
        "plt.legend()\n",
        "plt.savefig('/content/drive/My Drive/COMPSCI590 Project/VCG_GSP_scatter.png')"
      ],
      "execution_count": null,
      "outputs": [
        {
          "output_type": "display_data",
          "data": {
            "image/png": "[encoded data removed]",
            "text/plain": [
              "<Figure size 1440x360 with 1 Axes>"
            ]
          },
          "metadata": {
            "tags": [],
            "needs_background": "light"
          }
        }
      ]
    },
    {
      "cell_type": "code",
      "metadata": {
        "id": "HWlXXUifvVzo"
      },
      "source": [
        "class auction_design:\n",
        "  def __init__(self, auction_type, num_slots, res_p, avg_zero, ads_cost):\n",
        "    self.auction_type = auction_type\n",
        "    self.num_slots = num_slots\n",
        "    self.res_p = res_p\n",
        "    self.ads_cost = ads_cost\n",
        "    self.count = [0]\n",
        "    self.avg = [avg_zero]\n",
        "  \n",
        "  def __str__(self):\n",
        "    return \"Auction Type: {0}, Number of Slots: {1}, Reserved Price: {2}, Ads Cost: {3}\".format(self.auction_type, self.num_slots, self.res_p, self.ads_cost)"
      ],
      "execution_count": null,
      "outputs": []
    },
    {
      "cell_type": "code",
      "metadata": {
        "id": "WFUzmCjevaA5"
      },
      "source": [
        "def get_phrase_data_and_auction_groups(data, phrase_id):\n",
        "  subset_phrase = data[data['PHRASE_ID'] == phrase_id]\n",
        "  phrase_3_bidders = pd.DataFrame(subset_phrase.groupby('AUCTION_GRP')['ACCOUNT_ID'].nunique() > 3)\n",
        "  auction_groups = phrase_3_bidders[phrase_3_bidders['ACCOUNT_ID'] == True].index.values\n",
        "  return subset_phrase, auction_groups"
      ],
      "execution_count": null,
      "outputs": []
    },
    {
      "cell_type": "code",
      "metadata": {
        "id": "5HZ0l7Lmu_9O"
      },
      "source": [
        "def get_designs_phrase_1():\n",
        "  designs = []\n",
        "  # designs.append(auction_design(\"VCG\", num_slots = 3, res_p = 30, avg_zero = 10, ads_cost = 0.5))\n",
        "  designs.append(auction_design(\"VCG\", num_slots = 3, res_p = 15, avg_zero = 10, ads_cost = 1))\n",
        "  designs.append(auction_design(\"VCG\", num_slots = 2, res_p = 15, avg_zero = 10, ads_cost = 1))\n",
        "  designs.append(auction_design(\"GSP\", num_slots = 3, res_p = 15, avg_zero = 10, ads_cost = 1))\n",
        "  designs.append(auction_design(\"GSP\", num_slots = 2, res_p = 15, avg_zero = 10, ads_cost = 1))\n",
        "  designs.append(auction_design(\"VCG\", num_slots = 3, res_p = 10, avg_zero = 10, ads_cost = 1))\n",
        "  designs.append(auction_design(\"VCG\", num_slots = 2, res_p = 10, avg_zero = 10, ads_cost = 1))\n",
        "  designs.append(auction_design(\"GSP\", num_slots = 3, res_p = 10, avg_zero = 10, ads_cost = 1))\n",
        "  designs.append(auction_design(\"GSP\", num_slots = 2, res_p = 10, avg_zero = 10, ads_cost = 1))\n",
        "  return designs\n",
        "\n",
        "def get_designs_phrase_2():\n",
        "  designs = []\n",
        "  # designs.append(auction_design(\"VCG\", num_slots = 3, res_p = 30, avg_zero = 10, ads_cost = 0.5))\n",
        "  designs.append(auction_design(\"VCG\", num_slots = 3, res_p = 10, avg_zero = 10, ads_cost = 0.5))\n",
        "  designs.append(auction_design(\"VCG\", num_slots = 2, res_p = 10, avg_zero = 10, ads_cost = 0.5))\n",
        "  designs.append(auction_design(\"GSP\", num_slots = 3, res_p = 10, avg_zero = 10, ads_cost = 0.5))\n",
        "  designs.append(auction_design(\"GSP\", num_slots = 2, res_p = 10, avg_zero = 10, ads_cost = 0.5))\n",
        "  designs.append(auction_design(\"VCG\", num_slots = 3, res_p = 5, avg_zero = 10, ads_cost = 0.5))\n",
        "  designs.append(auction_design(\"VCG\", num_slots = 2, res_p = 5, avg_zero = 10, ads_cost = 0.5))\n",
        "  designs.append(auction_design(\"GSP\", num_slots = 3, res_p = 5, avg_zero = 10, ads_cost = 0.5))\n",
        "  designs.append(auction_design(\"GSP\", num_slots = 2, res_p = 5, avg_zero = 10, ads_cost = 0.5))\n",
        "  return designs"
      ],
      "execution_count": null,
      "outputs": []
    },
    {
      "cell_type": "code",
      "metadata": {
        "id": "v7z_hD37Fe4-"
      },
      "source": [
        "def get_designs_phrase(subset_phrase):\n",
        "  diff_reserve_prices = pd.DataFrame(subset_phrase['PRICE'].describe(percentiles = [0.2, 0.3, 0.4])).T\n",
        "  resp_p_1 = diff_reserve_prices['20%'].values[0]\n",
        "  resp_p_2 = diff_reserve_prices['30%'].values[0]\n",
        "  resp_p_3 = diff_reserve_prices['40%'].values[0]\n",
        "  ads_cost = diff_reserve_prices['mean'].values[0] * 0.05\n",
        "  designs = []\n",
        "\n",
        "  designs.append(auction_design(\"VCG\", num_slots = 3, res_p = resp_p_1, avg_zero = 10, ads_cost = ads_cost))\n",
        "  designs.append(auction_design(\"VCG\", num_slots = 2, res_p = resp_p_1, avg_zero = 10, ads_cost = ads_cost))\n",
        "  # designs.append(auction_design(\"VCG\", num_slots = 1, res_p = resp_p_1, avg_zero = 10, ads_cost = ads_cost))\n",
        "  designs.append(auction_design(\"GSP\", num_slots = 3, res_p = resp_p_1, avg_zero = 10, ads_cost = ads_cost))\n",
        "  designs.append(auction_design(\"GSP\", num_slots = 2, res_p = resp_p_1, avg_zero = 10, ads_cost = ads_cost))\n",
        "  # designs.append(auction_design(\"GSP\", num_slots = 1, res_p = resp_p_1, avg_zero = 10, ads_cost = ads_cost))\n",
        "\n",
        "  designs.append(auction_design(\"VCG\", num_slots = 3, res_p = resp_p_2, avg_zero = 10, ads_cost = ads_cost))\n",
        "  designs.append(auction_design(\"VCG\", num_slots = 2, res_p = resp_p_2, avg_zero = 10, ads_cost = ads_cost))\n",
        "  # designs.append(auction_design(\"VCG\", num_slots = 1, res_p = resp_p_2, avg_zero = 10, ads_cost = ads_cost))\n",
        "  designs.append(auction_design(\"GSP\", num_slots = 3, res_p = resp_p_2, avg_zero = 10, ads_cost = ads_cost))\n",
        "  designs.append(auction_design(\"GSP\", num_slots = 2, res_p = resp_p_2, avg_zero = 10, ads_cost = ads_cost))\n",
        "  # designs.append(auction_design(\"GSP\", num_slots = 1, res_p = resp_p_2, avg_zero = 10, ads_cost = ads_cost))\n",
        "\n",
        "  designs.append(auction_design(\"VCG\", num_slots = 3, res_p = resp_p_3, avg_zero = 10, ads_cost = ads_cost))\n",
        "  designs.append(auction_design(\"VCG\", num_slots = 2, res_p = resp_p_3, avg_zero = 10, ads_cost = ads_cost))\n",
        "  # designs.append(auction_design(\"VCG\", num_slots = 1, res_p = resp_p_3, avg_zero = 10, ads_cost = ads_cost))\n",
        "  designs.append(auction_design(\"GSP\", num_slots = 3, res_p = resp_p_3, avg_zero = 10, ads_cost = ads_cost))\n",
        "  designs.append(auction_design(\"GSP\", num_slots = 2, res_p = resp_p_3, avg_zero = 10, ads_cost = ads_cost))\n",
        "  # designs.append(auction_design(\"GSP\", num_slots = 1, res_p = resp_p_3, avg_zero = 10, ads_cost = ads_cost))\n",
        "\n",
        "  return designs"
      ],
      "execution_count": null,
      "outputs": []
    },
    {
      "cell_type": "code",
      "metadata": {
        "id": "_DMgkc659bHH"
      },
      "source": [
        "def update_average_zero(subset_phrase, auction_groups, designs):\n",
        "  for design in designs:\n",
        "    average_revenue = 0\n",
        "    for auction_group in auction_groups[:20]:\n",
        "      auction = subset_phrase[subset_phrase['AUCTION_GRP'] == auction_group]\n",
        "      payments = {}\n",
        "      if design.auction_type == \"VCG\":\n",
        "        payments = VCG(auction, num_slots = design.num_slots, res_p = design.res_p)\n",
        "      else:\n",
        "        payments = GSP(auction, num_slots = design.num_slots, res_p = design.res_p)\n",
        "      average_revenue += payments['revenue']\n",
        "    average_revenue /= 20\n",
        "    design.avg[0] = average_revenue\n",
        "  return designs"
      ],
      "execution_count": null,
      "outputs": []
    },
    {
      "cell_type": "code",
      "metadata": {
        "id": "kQYC5PRsvFum"
      },
      "source": [
        "def bandit_algo(subset_phrase, auction_groups, designs, prior_info=False):\n",
        "  k = len(designs)\n",
        "  tau_start = 0.1\n",
        "  tau_end = 0.01\n",
        "  t = 0\n",
        "  total_revenue = 0\n",
        "  auction_start = 0\n",
        "  # print(\"Auction groups: \", len(auction_groups))\n",
        "  if prior_info:\n",
        "    designs = update_average_zero(subset_phrase, auction_groups, designs)\n",
        "    # for design in designs:\n",
        "    #   print(str(design), 'Initial Average: ', design.avg[0])\n",
        "    auction_start = 21\n",
        "  for auction_group in auction_groups[auction_start:]:\n",
        "    auction = subset_phrase[subset_phrase['AUCTION_GRP'] == auction_group]\n",
        "    tau_t = tau_start + (tau_end - tau_start) * t / len(auction_groups)\n",
        "    D = []\n",
        "    for i in range(1,k+1):\n",
        "      # Probability of drawing design i\n",
        "      D.append(np.exp(designs[i-1].avg[t] / tau_t))\n",
        "    sum = np.sum(D)\n",
        "    for i in range(1,k+1):\n",
        "      D[i-1] = D[i-1] / sum\n",
        "    design_selected = np.random.choice(designs, p = D)\n",
        "    payments = {}\n",
        "    if design_selected.auction_type == \"VCG\":\n",
        "      payments = VCG(auction, num_slots = design_selected.num_slots, res_p = design_selected.res_p, ads_cost = design_selected.ads_cost)\n",
        "    else:\n",
        "      payments = GSP(auction, num_slots = design_selected.num_slots, res_p = design_selected.res_p, ads_cost = design_selected.ads_cost)\n",
        "    outcome = payments['revenue']\n",
        "    \n",
        "    for design in designs:\n",
        "      design.avg.append(design.avg[-1])\n",
        "      design.count.append(design.count[-1])\n",
        "\n",
        "    index = designs.index(design_selected)\n",
        "    designs[index].avg[-1] = (designs[index].avg[-1] * designs[index].count[-1] + outcome) / (designs[index].count[-1] + 1)\n",
        "    designs[index].count[-1] = designs[index].count[-1] + 1\n",
        "    t += 1\n",
        "    total_revenue += payments['revenue']\n",
        "\n",
        "  index, element = max(enumerate(D), key=itemgetter(1))\n",
        "  final_design = designs[index]\n",
        "  return total_revenue, final_design"
      ],
      "execution_count": null,
      "outputs": []
    },
    {
      "cell_type": "code",
      "metadata": {
        "id": "eYWY6C4n9xWx"
      },
      "source": [
        "def complete_bandit_algo(data, phrase_id):\n",
        "  subset_phrase, auction_groups = get_phrase_data_and_auction_groups(data, phrase_id)\n",
        "  designs = get_designs_phrase(subset_phrase)\n",
        "  print('Designs Fetched!')\n",
        "  total_revenue, final_design = bandit_algo(subset_phrase, auction_groups, designs)\n",
        "  print('Phrase id: ', phrase_id)\n",
        "  print('Total Revenue: ', total_revenue)\n",
        "  print('Final Design: ', final_design)\n",
        "  return total_revenue"
      ],
      "execution_count": null,
      "outputs": []
    },
    {
      "cell_type": "code",
      "metadata": {
        "id": "GDsBT4ceEP2K"
      },
      "source": [
        "def total_revenue_from_design(subset_phrase, auction_groups, design):\n",
        "  total_revenue = 0\n",
        "  for auction_group in auction_groups:\n",
        "    auction = subset_phrase[subset_phrase['AUCTION_GRP'] == auction_group]\n",
        "    if design.auction_type == \"VCG\":\n",
        "      payments = VCG(auction, num_slots = design.num_slots, res_p = design.res_p, ads_cost = design.ads_cost)\n",
        "    else:\n",
        "      payments = GSP(auction, num_slots = design.num_slots, res_p = design.res_p, ads_cost = design.ads_cost)\n",
        "    total_revenue += payments['revenue']\n",
        "  return total_revenue"
      ],
      "execution_count": null,
      "outputs": []
    },
    {
      "cell_type": "code",
      "metadata": {
        "id": "PP6Pmoot_sX2"
      },
      "source": [
        "def update_stats(stats, highest_revenue, bandit_revenue, final_design):\n",
        "  if final_design.auction_type == 'VCG':\n",
        "    stats['VCG'] = stats['VCG'] + 1\n",
        "  else:\n",
        "    stats['GSP'] = stats['GSP'] + 1\n",
        "  stats['average_slots'] = stats['average_slots'] + final_design.num_slots\n",
        "  stats['average_reserve_price'] = stats['average_reserve_price'] + final_design.res_p\n",
        "  stats['average_ratio_bandit_highest'] = stats['average_ratio_bandit_highest'] + bandit_revenue/highest_revenue\n",
        "  return stats"
      ],
      "execution_count": null,
      "outputs": []
    },
    {
      "cell_type": "code",
      "metadata": {
        "id": "jWqo00jbB0fn"
      },
      "source": [
        "def compare_with_bandit_algo(data, final_phrase_ids):\n",
        "  result = pd.DataFrame(columns=['PHRASE_ID', 'TOTAL_REVENUE', 'DESIGN'])\n",
        "  stats_with_prior_info = {'GSP':0, 'VCG':0, 'average_slots': 0, 'average_reserve_price':0, 'average_ratio_bandit_highest':0}\n",
        "  stats_without_prior_info = {'GSP':0, 'VCG':0, 'average_slots': 0, 'average_reserve_price':0, 'average_ratio_bandit_highest':0}\n",
        "  for phrase_id in final_phrase_ids:\n",
        "    subset_phrase, auction_groups = get_phrase_data_and_auction_groups(data, phrase_id)\n",
        "    designs = get_designs_phrase(subset_phrase)\n",
        "    highest_revenue = 0\n",
        "    for design in designs:\n",
        "      design_revenue = total_revenue_from_design(subset_phrase, auction_groups, design)\n",
        "      highest_revenue = max(highest_revenue, design_revenue)\n",
        "      row = {'PHRASE_ID': phrase_id, 'TOTAL_REVENUE': design_revenue, 'DESIGN': str(design)}\n",
        "      result = result.append(row, ignore_index=True)\n",
        "    bandit_revenue, final_design = bandit_algo(subset_phrase, auction_groups, designs, prior_info=True)\n",
        "    row = {'PHRASE_ID': phrase_id, 'TOTAL_REVENUE': bandit_revenue, 'DESIGN': 'Bandit Algorithm with Prior Info - '+ str(final_design)}\n",
        "    stats_with_prior_info = update_stats(stats_with_prior_info, highest_revenue, bandit_revenue, final_design)\n",
        "    result = result.append(row, ignore_index=True)\n",
        "    bandit_revenue, final_design = bandit_algo(subset_phrase, auction_groups, designs)\n",
        "    row = {'PHRASE_ID': phrase_id, 'TOTAL_REVENUE': bandit_revenue, 'DESIGN': 'Bandit Algorithm without Prior Info - '+ str(final_design)}\n",
        "    stats_without_prior_info = update_stats(stats_without_prior_info, highest_revenue, bandit_revenue, final_design)\n",
        "    result = result.append(row, ignore_index=True)\n",
        "  result.to_csv('/content/drive/My Drive/COMPSCI590 Project/comparison_results_all_phrase_ids_v2.csv', index=False)\n",
        "  stats_with_prior_info['average_slots'] = stats_with_prior_info['average_slots']/len(final_phrase_ids)\n",
        "  stats_with_prior_info['average_reserve_price'] = stats_with_prior_info['average_reserve_price']/len(final_phrase_ids)\n",
        "  stats_with_prior_info['average_ratio_bandit_highest'] = stats_with_prior_info['average_ratio_bandit_highest']/len(final_phrase_ids)\n",
        "  stats_without_prior_info['average_slots'] = stats_without_prior_info['average_slots']/len(final_phrase_ids)\n",
        "  stats_without_prior_info['average_reserve_price'] = stats_without_prior_info['average_reserve_price']/len(final_phrase_ids)\n",
        "  stats_without_prior_info['average_ratio_bandit_highest'] = stats_without_prior_info['average_ratio_bandit_highest']/len(final_phrase_ids)\n",
        "  return result, stats_with_prior_info, stats_without_prior_info"
      ],
      "execution_count": null,
      "outputs": []
    },
    {
      "cell_type": "code",
      "metadata": {
        "colab": {
          "base_uri": "https://localhost:8080/"
        },
        "id": "wicaKBu7GDk9",
        "outputId": "6795d848-3be1-46dc-f55a-e0d0fba17d86"
      },
      "source": [
        "result, stats_with_prior_info, stats_without_prior_info = compare_with_bandit_algo(data, final_phrase_ids)\n",
        "print(stats_with_prior_info)\n",
        "print(stats_without_prior_info)"
      ],
      "execution_count": null,
      "outputs": [
        {
          "output_type": "stream",
          "text": [
            "{'GSP': 180, 'VCG': 63, 'average_slots': 2.345679012345679, 'average_reserve_price': 3.482876543209874, 'average_ratio_bandit_highest': 0.7727532110010604}\n",
            "{'GSP': 166, 'VCG': 77, 'average_slots': 2.337448559670782, 'average_reserve_price': 3.509502057613167, 'average_ratio_bandit_highest': 0.8858449864787908}\n"
          ],
          "name": "stdout"
        }
      ]
    }
  ]
}